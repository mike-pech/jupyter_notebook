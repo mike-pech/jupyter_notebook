{
 "cells": [
  {
   "cell_type": "markdown",
   "id": "49dfaa5a-7d66-4aeb-a7b1-0eedd41d3e43",
   "metadata": {},
   "source": [
    "# Basic Jupyter notebook example"
   ]
  },
  {
   "cell_type": "raw",
   "id": "7e9509be-898e-47e3-96f9-df6e6bed5c62",
   "metadata": {},
   "source": [
    "You can write your text raw like this"
   ]
  },
  {
   "cell_type": "markdown",
   "id": "cc6a33e1-0fe9-4deb-98b9-f7d86603c864",
   "metadata": {},
   "source": [
    "### OR\n",
    "\n",
    "You can go [Markdown](https://www.markdownguide.org/basic-syntax) and make **your text** look:\n",
    "- Structured\n",
    "- Concise\n",
    "- Nice"
   ]
  },
  {
   "cell_type": "code",
   "execution_count": 3,
   "id": "f3c2752d-26ea-427c-9f62-a3cb96b6f4c5",
   "metadata": {},
   "outputs": [
    {
     "name": "stdout",
     "output_type": "stream",
     "text": [
      "Hello, Jupyter!\n"
     ]
    }
   ],
   "source": [
    "# Oh! Almost forgot that we code in here!\n",
    "\n",
    "print(\"Hello, Jupyter!\")"
   ]
  },
  {
   "cell_type": "markdown",
   "id": "3805182c-6dad-4ac7-b9f8-1e5128a301aa",
   "metadata": {},
   "source": [
    "### Important!"
   ]
  },
  {
   "cell_type": "code",
   "execution_count": 1,
   "id": "93b7f165-cb10-42a7-ba45-97ba7ec13d30",
   "metadata": {},
   "outputs": [],
   "source": [
    "a = 1"
   ]
  },
  {
   "cell_type": "code",
   "execution_count": 2,
   "id": "0cefffe6-d369-4d6e-b2c4-2298c19c11d2",
   "metadata": {},
   "outputs": [],
   "source": [
    "b = 2"
   ]
  },
  {
   "cell_type": "code",
   "execution_count": 2,
   "id": "00643d0d-9367-40c2-9d74-6aaa7f08f4d1",
   "metadata": {},
   "outputs": [
    {
     "ename": "NameError",
     "evalue": "name 'b' is not defined",
     "output_type": "error",
     "traceback": [
      "\u001b[0;31m---------------------------------------------------------------------------\u001b[0m",
      "\u001b[0;31mNameError\u001b[0m                                 Traceback (most recent call last)",
      "Cell \u001b[0;32mIn[2], line 1\u001b[0m\n\u001b[0;32m----> 1\u001b[0m a \u001b[38;5;241m+\u001b[39m \u001b[43mb\u001b[49m\n",
      "\u001b[0;31mNameError\u001b[0m: name 'b' is not defined"
     ]
    }
   ],
   "source": [
    "a + b"
   ]
  },
  {
   "cell_type": "code",
   "execution_count": 4,
   "id": "b44f7569-def5-4eb0-83b3-7a19c329940b",
   "metadata": {},
   "outputs": [
    {
     "data": {
      "text/plain": [
       "3"
      ]
     },
     "execution_count": 4,
     "metadata": {},
     "output_type": "execute_result"
    }
   ],
   "source": [
    "a + b"
   ]
  },
  {
   "cell_type": "code",
   "execution_count": null,
   "id": "a5ba42c4-43fe-4736-ad80-2eb3901a91d3",
   "metadata": {},
   "outputs": [],
   "source": []
  }
 ],
 "metadata": {
  "kernelspec": {
   "display_name": "Python 3 (ipykernel)",
   "language": "python",
   "name": "python3"
  },
  "language_info": {
   "codemirror_mode": {
    "name": "ipython",
    "version": 3
   },
   "file_extension": ".py",
   "mimetype": "text/x-python",
   "name": "python",
   "nbconvert_exporter": "python",
   "pygments_lexer": "ipython3",
   "version": "3.12.5"
  }
 },
 "nbformat": 4,
 "nbformat_minor": 5
}
