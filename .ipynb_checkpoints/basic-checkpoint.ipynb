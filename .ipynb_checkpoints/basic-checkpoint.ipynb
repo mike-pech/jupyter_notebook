{
 "cells": [
  {
   "cell_type": "code",
   "execution_count": 1,
   "id": "45044b57-b265-4708-bfa3-eb8db3b2957e",
   "metadata": {},
   "outputs": [],
   "source": [
    "i = .09"
   ]
  },
  {
   "cell_type": "code",
   "execution_count": 2,
   "id": "2b4f9cae-85a6-4c35-a511-dd647c433819",
   "metadata": {},
   "outputs": [],
   "source": [
    "b = 10"
   ]
  },
  {
   "cell_type": "code",
   "execution_count": 3,
   "id": "4b1f0ce5-9bb3-4691-81d3-0eaae08548f1",
   "metadata": {
    "scrolled": true
   },
   "outputs": [
    {
     "data": {
      "text/plain": [
       "10.09"
      ]
     },
     "execution_count": 3,
     "metadata": {},
     "output_type": "execute_result"
    }
   ],
   "source": [
    "i + b"
   ]
  },
  {
   "cell_type": "markdown",
   "id": "62d77f87-9c72-4705-8124-0a4bcbcc0882",
   "metadata": {},
   "source": [
    "## Markdown Heading 2"
   ]
  },
  {
   "cell_type": "raw",
   "id": "c3d9b9f3-2ae9-4f57-8df9-d719e4a1c8b0",
   "metadata": {},
   "source": [
    "Raw text blah blah blah"
   ]
  },
  {
   "cell_type": "code",
   "execution_count": null,
   "id": "8162a8b8-57f7-44b8-982d-8ec9e7f8653b",
   "metadata": {},
   "outputs": [],
   "source": []
  }
 ],
 "metadata": {
  "kernelspec": {
   "display_name": "Python 3 (ipykernel)",
   "language": "python",
   "name": "python3"
  },
  "language_info": {
   "codemirror_mode": {
    "name": "ipython",
    "version": 3
   },
   "file_extension": ".py",
   "mimetype": "text/x-python",
   "name": "python",
   "nbconvert_exporter": "python",
   "pygments_lexer": "ipython3",
   "version": "3.12.5"
  }
 },
 "nbformat": 4,
 "nbformat_minor": 5
}
